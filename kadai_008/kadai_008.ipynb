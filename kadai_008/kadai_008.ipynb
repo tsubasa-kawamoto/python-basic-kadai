{
  "nbformat": 4,
  "nbformat_minor": 0,
  "metadata": {
    "colab": {
      "provenance": []
    },
    "kernelspec": {
      "name": "python3",
      "display_name": "Python 3"
    },
    "language_info": {
      "name": "python"
    }
  },
  "cells": [
    {
      "cell_type": "code",
      "execution_count": 5,
      "metadata": {
        "colab": {
          "base_uri": "https://localhost:8080/"
        },
        "id": "57Xp6kaXb6d0",
        "outputId": "c194c6c6-5174-4c5e-dc88-27cca7639ad8"
      },
      "outputs": [
        {
          "output_type": "stream",
          "name": "stdout",
          "text": [
            "FizzBuzz\n"
          ]
        }
      ],
      "source": [
        "var = 30\n",
        "if(var % 3 == 0 and var % 5 == 0):\n",
        "  print(\"FizzBuzz\")\n",
        "elif(var % 3 == 0):\n",
        "  print(\"Fizz\")\n",
        "elif(var % 5 == 0):\n",
        "  print(\"Buzz\")\n",
        "else:\n",
        "  print(var)"
      ]
    }
  ]
}
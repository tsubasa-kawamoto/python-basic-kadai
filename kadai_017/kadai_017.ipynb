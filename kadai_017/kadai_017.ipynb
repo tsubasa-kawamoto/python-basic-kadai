{
  "nbformat": 4,
  "nbformat_minor": 0,
  "metadata": {
    "colab": {
      "provenance": []
    },
    "kernelspec": {
      "name": "python3",
      "display_name": "Python 3"
    },
    "language_info": {
      "name": "python"
    }
  },
  "cells": [
    {
      "cell_type": "code",
      "execution_count": 3,
      "metadata": {
        "colab": {
          "base_uri": "https://localhost:8080/"
        },
        "id": "sRNSVpin1ds7",
        "outputId": "904a3db6-377f-447f-9e0c-1e48ccba2742"
      },
      "outputs": [
        {
          "output_type": "stream",
          "name": "stdout",
          "text": [
            "大人ではありません\n",
            "大人です\n",
            "大人です\n"
          ]
        }
      ],
      "source": [
        "class Human:\n",
        "  def __init__(self, name, age):\n",
        "    self.name = name\n",
        "    self.age = age\n",
        "  def check_adult(self):\n",
        "    if self.age >= 20 :\n",
        "      print(\"大人です\")\n",
        "    else:\n",
        "      print(\"大人ではありません\")\n",
        "\n",
        "human1 = Human(\"鈴木\", 10)\n",
        "human2 = Human(\"田中\", 20)\n",
        "human3 = Human(\"木村\", 30)\n",
        "\n",
        "humans = [human1, human2, human3]\n",
        "\n",
        "i = 0\n",
        "while i < len(humans):\n",
        "  humans[i].check_adult()\n",
        "  i = i + 1\n"
      ]
    }
  ]
}
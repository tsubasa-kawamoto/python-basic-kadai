{
  "nbformat": 4,
  "nbformat_minor": 0,
  "metadata": {
    "colab": {
      "provenance": []
    },
    "kernelspec": {
      "name": "python3",
      "display_name": "Python 3"
    },
    "language_info": {
      "name": "python"
    }
  },
  "cells": [
    {
      "cell_type": "code",
      "execution_count": 2,
      "metadata": {
        "colab": {
          "base_uri": "https://localhost:8080/"
        },
        "id": "CUZNFLcImjPb",
        "outputId": "5a72d9b1-a80c-4fe4-bf74-eff0de3bd7a8"
      },
      "outputs": [
        {
          "output_type": "stream",
          "name": "stdout",
          "text": [
            "110.00000000000001\n"
          ]
        }
      ],
      "source": [
        "def add_tax(price, tax):\n",
        "  return price * (1 + tax * 0.01)\n",
        "\n",
        "print(add_tax(100,10))"
      ]
    }
  ]
}